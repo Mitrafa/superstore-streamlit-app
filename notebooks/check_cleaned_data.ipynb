{
 "cells": [
  {
   "cell_type": "code",
   "execution_count": 4,
   "id": "099d5b7f",
   "metadata": {},
   "outputs": [
    {
     "name": "stdout",
     "output_type": "stream",
     "text": [
      "Shape: (13297, 29)\n",
      "Columns: ['order_id', 'order_date', 'ship_date', 'ship_mode', 'customer_name', 'segment', 'state', 'country', 'market', 'region', 'product_id', 'category', 'sub_category', 'product_name', 'sales', 'quantity', 'discount', 'profit', 'shipping_cost', 'order_priority', 'year', 'ship_duration', 'shipping_speed', 'order_month', 'order_quarter', 'profit_margin', 'is_profitable', 'customer_order_count', 'order_weekday']\n",
      "order_id                 object\n",
      "order_date               object\n",
      "ship_date                object\n",
      "ship_mode                object\n",
      "customer_name            object\n",
      "segment                  object\n",
      "state                    object\n",
      "country                  object\n",
      "market                   object\n",
      "region                   object\n",
      "product_id               object\n",
      "category                 object\n",
      "sub_category             object\n",
      "product_name             object\n",
      "sales                   float64\n",
      "quantity                  int64\n",
      "discount                float64\n",
      "profit                  float64\n",
      "shipping_cost           float64\n",
      "order_priority           object\n",
      "year                      int64\n",
      "ship_duration             int64\n",
      "shipping_speed           object\n",
      "order_month              object\n",
      "order_quarter            object\n",
      "profit_margin           float64\n",
      "is_profitable              bool\n",
      "customer_order_count      int64\n",
      "order_weekday            object\n",
      "dtype: object\n",
      "order_id                0\n",
      "order_date              0\n",
      "ship_date               0\n",
      "ship_mode               0\n",
      "customer_name           0\n",
      "segment                 0\n",
      "state                   0\n",
      "country                 0\n",
      "market                  0\n",
      "region                  0\n",
      "product_id              0\n",
      "category                0\n",
      "sub_category            0\n",
      "product_name            0\n",
      "sales                   0\n",
      "quantity                0\n",
      "discount                0\n",
      "profit                  0\n",
      "shipping_cost           0\n",
      "order_priority          0\n",
      "year                    0\n",
      "ship_duration           0\n",
      "shipping_speed          0\n",
      "order_month             0\n",
      "order_quarter           0\n",
      "profit_margin           0\n",
      "is_profitable           0\n",
      "customer_order_count    0\n",
      "order_weekday           0\n",
      "dtype: int64\n"
     ]
    },
    {
     "data": {
      "application/vnd.microsoft.datawrangler.viewer.v0+json": {
       "columns": [
        {
         "name": "index",
         "rawType": "int64",
         "type": "integer"
        },
        {
         "name": "order_date",
         "rawType": "datetime64[ns]",
         "type": "datetime"
        },
        {
         "name": "ship_date",
         "rawType": "datetime64[ns]",
         "type": "datetime"
        },
        {
         "name": "order_month",
         "rawType": "period[M]",
         "type": "unknown"
        },
        {
         "name": "order_quarter",
         "rawType": "period[Q-DEC]",
         "type": "unknown"
        }
       ],
       "conversionMethod": "pd.DataFrame",
       "ref": "17fcdb6a-ad5f-4a25-ac6a-eca5b5710e6e",
       "rows": [
        [
         "0",
         "2011-01-01 00:00:00",
         "2011-01-06 00:00:00",
         "2011-01",
         "2011Q1"
        ],
        [
         "1",
         "2011-01-01 00:00:00",
         "2011-01-08 00:00:00",
         "2011-01",
         "2011Q1"
        ],
        [
         "2",
         "2011-01-01 00:00:00",
         "2011-01-05 00:00:00",
         "2011-01",
         "2011Q1"
        ],
        [
         "3",
         "2011-01-01 00:00:00",
         "2011-01-05 00:00:00",
         "2011-01",
         "2011Q1"
        ],
        [
         "4",
         "2011-01-01 00:00:00",
         "2011-01-08 00:00:00",
         "2011-01",
         "2011Q1"
        ]
       ],
       "shape": {
        "columns": 4,
        "rows": 5
       }
      },
      "text/html": [
       "<div>\n",
       "<style scoped>\n",
       "    .dataframe tbody tr th:only-of-type {\n",
       "        vertical-align: middle;\n",
       "    }\n",
       "\n",
       "    .dataframe tbody tr th {\n",
       "        vertical-align: top;\n",
       "    }\n",
       "\n",
       "    .dataframe thead th {\n",
       "        text-align: right;\n",
       "    }\n",
       "</style>\n",
       "<table border=\"1\" class=\"dataframe\">\n",
       "  <thead>\n",
       "    <tr style=\"text-align: right;\">\n",
       "      <th></th>\n",
       "      <th>order_date</th>\n",
       "      <th>ship_date</th>\n",
       "      <th>order_month</th>\n",
       "      <th>order_quarter</th>\n",
       "    </tr>\n",
       "  </thead>\n",
       "  <tbody>\n",
       "    <tr>\n",
       "      <th>0</th>\n",
       "      <td>2011-01-01</td>\n",
       "      <td>2011-01-06</td>\n",
       "      <td>2011-01</td>\n",
       "      <td>2011Q1</td>\n",
       "    </tr>\n",
       "    <tr>\n",
       "      <th>1</th>\n",
       "      <td>2011-01-01</td>\n",
       "      <td>2011-01-08</td>\n",
       "      <td>2011-01</td>\n",
       "      <td>2011Q1</td>\n",
       "    </tr>\n",
       "    <tr>\n",
       "      <th>2</th>\n",
       "      <td>2011-01-01</td>\n",
       "      <td>2011-01-05</td>\n",
       "      <td>2011-01</td>\n",
       "      <td>2011Q1</td>\n",
       "    </tr>\n",
       "    <tr>\n",
       "      <th>3</th>\n",
       "      <td>2011-01-01</td>\n",
       "      <td>2011-01-05</td>\n",
       "      <td>2011-01</td>\n",
       "      <td>2011Q1</td>\n",
       "    </tr>\n",
       "    <tr>\n",
       "      <th>4</th>\n",
       "      <td>2011-01-01</td>\n",
       "      <td>2011-01-08</td>\n",
       "      <td>2011-01</td>\n",
       "      <td>2011Q1</td>\n",
       "    </tr>\n",
       "  </tbody>\n",
       "</table>\n",
       "</div>"
      ],
      "text/plain": [
       "  order_date  ship_date order_month order_quarter\n",
       "0 2011-01-01 2011-01-06     2011-01        2011Q1\n",
       "1 2011-01-01 2011-01-08     2011-01        2011Q1\n",
       "2 2011-01-01 2011-01-05     2011-01        2011Q1\n",
       "3 2011-01-01 2011-01-05     2011-01        2011Q1\n",
       "4 2011-01-01 2011-01-08     2011-01        2011Q1"
      ]
     },
     "execution_count": 4,
     "metadata": {},
     "output_type": "execute_result"
    }
   ],
   "source": [
    "import pandas as pd\n",
    "\n",
    "# Load the cleaned data\n",
    "df = pd.read_csv(\"/Users/mitra/Documents/digital-futures/capstone_project/superstore-streamlit-app/data/cleaned/cleaned_superstore.csv\")\n",
    "\n",
    "# Preview the dataset\n",
    "df.head()\n",
    "\n",
    "# Check shape\n",
    "print(\"Shape:\", df.shape)\n",
    "\n",
    "# Check columns\n",
    "print(\"Columns:\", df.columns.tolist())\n",
    "\n",
    "# Check data types\n",
    "print(df.dtypes)\n",
    "\n",
    "# Check for missing values\n",
    "print(df.isnull().sum())\n",
    "\n",
    "# Re-parse dates (optional, for analysis or visualisation)\n",
    "df['order_date'] = pd.to_datetime(df['order_date'])\n",
    "df['ship_date'] = pd.to_datetime(df['ship_date'])\n",
    "df['order_month'] = df['order_date'].dt.to_period('M')\n",
    "df['order_quarter'] = df['order_date'].dt.to_period('Q')\n",
    "\n",
    "# Confirm again\n",
    "df[['order_date', 'ship_date', 'order_month', 'order_quarter']].head()\n"
   ]
  },
  {
   "cell_type": "code",
   "execution_count": 5,
   "id": "55940697",
   "metadata": {},
   "outputs": [
    {
     "name": "stdout",
     "output_type": "stream",
     "text": [
      "Shape: (13297, 29)\n"
     ]
    }
   ],
   "source": [
    "print(\"Shape:\", df.shape)"
   ]
  }
 ],
 "metadata": {
  "kernelspec": {
   "display_name": ".venv",
   "language": "python",
   "name": "python3"
  },
  "language_info": {
   "codemirror_mode": {
    "name": "ipython",
    "version": 3
   },
   "file_extension": ".py",
   "mimetype": "text/x-python",
   "name": "python",
   "nbconvert_exporter": "python",
   "pygments_lexer": "ipython3",
   "version": "3.13.2"
  }
 },
 "nbformat": 4,
 "nbformat_minor": 5
}
