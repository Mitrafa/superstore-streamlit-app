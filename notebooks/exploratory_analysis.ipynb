{
 "cells": [
  {
   "cell_type": "code",
   "execution_count": 5,
   "id": "631e022e",
   "metadata": {},
   "outputs": [
    {
     "data": {
      "application/vnd.microsoft.datawrangler.viewer.v0+json": {
       "columns": [
        {
         "name": "index",
         "rawType": "int64",
         "type": "integer"
        },
        {
         "name": "order_id",
         "rawType": "object",
         "type": "string"
        },
        {
         "name": "order_date",
         "rawType": "object",
         "type": "string"
        },
        {
         "name": "ship_date",
         "rawType": "object",
         "type": "string"
        },
        {
         "name": "ship_mode",
         "rawType": "object",
         "type": "string"
        },
        {
         "name": "customer_name",
         "rawType": "object",
         "type": "string"
        },
        {
         "name": "segment",
         "rawType": "object",
         "type": "string"
        },
        {
         "name": "state",
         "rawType": "object",
         "type": "string"
        },
        {
         "name": "country",
         "rawType": "object",
         "type": "string"
        },
        {
         "name": "market",
         "rawType": "object",
         "type": "string"
        },
        {
         "name": "region",
         "rawType": "object",
         "type": "string"
        },
        {
         "name": "product_id",
         "rawType": "object",
         "type": "string"
        },
        {
         "name": "category",
         "rawType": "object",
         "type": "string"
        },
        {
         "name": "sub_category",
         "rawType": "object",
         "type": "string"
        },
        {
         "name": "product_name",
         "rawType": "object",
         "type": "string"
        },
        {
         "name": "sales",
         "rawType": "object",
         "type": "string"
        },
        {
         "name": "quantity",
         "rawType": "int64",
         "type": "integer"
        },
        {
         "name": "discount",
         "rawType": "float64",
         "type": "float"
        },
        {
         "name": "profit",
         "rawType": "float64",
         "type": "float"
        },
        {
         "name": "shipping_cost",
         "rawType": "float64",
         "type": "float"
        },
        {
         "name": "order_priority",
         "rawType": "object",
         "type": "string"
        },
        {
         "name": "year",
         "rawType": "int64",
         "type": "integer"
        }
       ],
       "conversionMethod": "pd.DataFrame",
       "ref": "403db5c2-f4f6-487c-ba5b-172dddef45c4",
       "rows": [
        [
         "0",
         "AG-2011-2040",
         "1/1/2011",
         "6/1/2011",
         "Standard Class",
         "Toby Braunhardt",
         "Consumer",
         "Constantine",
         "Algeria",
         "Africa",
         "Africa",
         "OFF-TEN-10000025",
         "Office Supplies",
         "Storage",
         "Tenex Lockers, Blue",
         "408",
         "2",
         "0.0",
         "106.14",
         "35.46",
         "Medium",
         "2011"
        ],
        [
         "1",
         "IN-2011-47883",
         "1/1/2011",
         "8/1/2011",
         "Standard Class",
         "Joseph Holt",
         "Consumer",
         "New South Wales",
         "Australia",
         "APAC",
         "Oceania",
         "OFF-SU-10000618",
         "Office Supplies",
         "Supplies",
         "Acme Trimmer, High Speed",
         "120",
         "3",
         "0.1",
         "36.036",
         "9.72",
         "Medium",
         "2011"
        ],
        [
         "2",
         "HU-2011-1220",
         "1/1/2011",
         "5/1/2011",
         "Second Class",
         "Annie Thurman",
         "Consumer",
         "Budapest",
         "Hungary",
         "EMEA",
         "EMEA",
         "OFF-TEN-10001585",
         "Office Supplies",
         "Storage",
         "Tenex Box, Single Width",
         "66",
         "4",
         "0.0",
         "29.64",
         "8.17",
         "High",
         "2011"
        ],
        [
         "3",
         "IT-2011-3647632",
         "1/1/2011",
         "5/1/2011",
         "Second Class",
         "Eugene Moren",
         "Home Office",
         "Stockholm",
         "Sweden",
         "EU",
         "North",
         "OFF-PA-10001492",
         "Office Supplies",
         "Paper",
         "Enermax Note Cards, Premium",
         "45",
         "3",
         "0.5",
         "-26.055",
         "4.82",
         "High",
         "2011"
        ],
        [
         "4",
         "IN-2011-47883",
         "1/1/2011",
         "8/1/2011",
         "Standard Class",
         "Joseph Holt",
         "Consumer",
         "New South Wales",
         "Australia",
         "APAC",
         "Oceania",
         "FUR-FU-10003447",
         "Furniture",
         "Furnishings",
         "Eldon Light Bulb, Duo Pack",
         "114",
         "5",
         "0.1",
         "37.77",
         "4.7",
         "Medium",
         "2011"
        ]
       ],
       "shape": {
        "columns": 21,
        "rows": 5
       }
      },
      "text/html": [
       "<div>\n",
       "<style scoped>\n",
       "    .dataframe tbody tr th:only-of-type {\n",
       "        vertical-align: middle;\n",
       "    }\n",
       "\n",
       "    .dataframe tbody tr th {\n",
       "        vertical-align: top;\n",
       "    }\n",
       "\n",
       "    .dataframe thead th {\n",
       "        text-align: right;\n",
       "    }\n",
       "</style>\n",
       "<table border=\"1\" class=\"dataframe\">\n",
       "  <thead>\n",
       "    <tr style=\"text-align: right;\">\n",
       "      <th></th>\n",
       "      <th>order_id</th>\n",
       "      <th>order_date</th>\n",
       "      <th>ship_date</th>\n",
       "      <th>ship_mode</th>\n",
       "      <th>customer_name</th>\n",
       "      <th>segment</th>\n",
       "      <th>state</th>\n",
       "      <th>country</th>\n",
       "      <th>market</th>\n",
       "      <th>region</th>\n",
       "      <th>...</th>\n",
       "      <th>category</th>\n",
       "      <th>sub_category</th>\n",
       "      <th>product_name</th>\n",
       "      <th>sales</th>\n",
       "      <th>quantity</th>\n",
       "      <th>discount</th>\n",
       "      <th>profit</th>\n",
       "      <th>shipping_cost</th>\n",
       "      <th>order_priority</th>\n",
       "      <th>year</th>\n",
       "    </tr>\n",
       "  </thead>\n",
       "  <tbody>\n",
       "    <tr>\n",
       "      <th>0</th>\n",
       "      <td>AG-2011-2040</td>\n",
       "      <td>1/1/2011</td>\n",
       "      <td>6/1/2011</td>\n",
       "      <td>Standard Class</td>\n",
       "      <td>Toby Braunhardt</td>\n",
       "      <td>Consumer</td>\n",
       "      <td>Constantine</td>\n",
       "      <td>Algeria</td>\n",
       "      <td>Africa</td>\n",
       "      <td>Africa</td>\n",
       "      <td>...</td>\n",
       "      <td>Office Supplies</td>\n",
       "      <td>Storage</td>\n",
       "      <td>Tenex Lockers, Blue</td>\n",
       "      <td>408</td>\n",
       "      <td>2</td>\n",
       "      <td>0.0</td>\n",
       "      <td>106.140</td>\n",
       "      <td>35.46</td>\n",
       "      <td>Medium</td>\n",
       "      <td>2011</td>\n",
       "    </tr>\n",
       "    <tr>\n",
       "      <th>1</th>\n",
       "      <td>IN-2011-47883</td>\n",
       "      <td>1/1/2011</td>\n",
       "      <td>8/1/2011</td>\n",
       "      <td>Standard Class</td>\n",
       "      <td>Joseph Holt</td>\n",
       "      <td>Consumer</td>\n",
       "      <td>New South Wales</td>\n",
       "      <td>Australia</td>\n",
       "      <td>APAC</td>\n",
       "      <td>Oceania</td>\n",
       "      <td>...</td>\n",
       "      <td>Office Supplies</td>\n",
       "      <td>Supplies</td>\n",
       "      <td>Acme Trimmer, High Speed</td>\n",
       "      <td>120</td>\n",
       "      <td>3</td>\n",
       "      <td>0.1</td>\n",
       "      <td>36.036</td>\n",
       "      <td>9.72</td>\n",
       "      <td>Medium</td>\n",
       "      <td>2011</td>\n",
       "    </tr>\n",
       "    <tr>\n",
       "      <th>2</th>\n",
       "      <td>HU-2011-1220</td>\n",
       "      <td>1/1/2011</td>\n",
       "      <td>5/1/2011</td>\n",
       "      <td>Second Class</td>\n",
       "      <td>Annie Thurman</td>\n",
       "      <td>Consumer</td>\n",
       "      <td>Budapest</td>\n",
       "      <td>Hungary</td>\n",
       "      <td>EMEA</td>\n",
       "      <td>EMEA</td>\n",
       "      <td>...</td>\n",
       "      <td>Office Supplies</td>\n",
       "      <td>Storage</td>\n",
       "      <td>Tenex Box, Single Width</td>\n",
       "      <td>66</td>\n",
       "      <td>4</td>\n",
       "      <td>0.0</td>\n",
       "      <td>29.640</td>\n",
       "      <td>8.17</td>\n",
       "      <td>High</td>\n",
       "      <td>2011</td>\n",
       "    </tr>\n",
       "    <tr>\n",
       "      <th>3</th>\n",
       "      <td>IT-2011-3647632</td>\n",
       "      <td>1/1/2011</td>\n",
       "      <td>5/1/2011</td>\n",
       "      <td>Second Class</td>\n",
       "      <td>Eugene Moren</td>\n",
       "      <td>Home Office</td>\n",
       "      <td>Stockholm</td>\n",
       "      <td>Sweden</td>\n",
       "      <td>EU</td>\n",
       "      <td>North</td>\n",
       "      <td>...</td>\n",
       "      <td>Office Supplies</td>\n",
       "      <td>Paper</td>\n",
       "      <td>Enermax Note Cards, Premium</td>\n",
       "      <td>45</td>\n",
       "      <td>3</td>\n",
       "      <td>0.5</td>\n",
       "      <td>-26.055</td>\n",
       "      <td>4.82</td>\n",
       "      <td>High</td>\n",
       "      <td>2011</td>\n",
       "    </tr>\n",
       "    <tr>\n",
       "      <th>4</th>\n",
       "      <td>IN-2011-47883</td>\n",
       "      <td>1/1/2011</td>\n",
       "      <td>8/1/2011</td>\n",
       "      <td>Standard Class</td>\n",
       "      <td>Joseph Holt</td>\n",
       "      <td>Consumer</td>\n",
       "      <td>New South Wales</td>\n",
       "      <td>Australia</td>\n",
       "      <td>APAC</td>\n",
       "      <td>Oceania</td>\n",
       "      <td>...</td>\n",
       "      <td>Furniture</td>\n",
       "      <td>Furnishings</td>\n",
       "      <td>Eldon Light Bulb, Duo Pack</td>\n",
       "      <td>114</td>\n",
       "      <td>5</td>\n",
       "      <td>0.1</td>\n",
       "      <td>37.770</td>\n",
       "      <td>4.70</td>\n",
       "      <td>Medium</td>\n",
       "      <td>2011</td>\n",
       "    </tr>\n",
       "  </tbody>\n",
       "</table>\n",
       "<p>5 rows × 21 columns</p>\n",
       "</div>"
      ],
      "text/plain": [
       "          order_id order_date ship_date       ship_mode    customer_name  \\\n",
       "0     AG-2011-2040   1/1/2011  6/1/2011  Standard Class  Toby Braunhardt   \n",
       "1    IN-2011-47883   1/1/2011  8/1/2011  Standard Class      Joseph Holt   \n",
       "2     HU-2011-1220   1/1/2011  5/1/2011    Second Class    Annie Thurman   \n",
       "3  IT-2011-3647632   1/1/2011  5/1/2011    Second Class     Eugene Moren   \n",
       "4    IN-2011-47883   1/1/2011  8/1/2011  Standard Class      Joseph Holt   \n",
       "\n",
       "       segment            state    country  market   region  ...  \\\n",
       "0     Consumer      Constantine    Algeria  Africa   Africa  ...   \n",
       "1     Consumer  New South Wales  Australia    APAC  Oceania  ...   \n",
       "2     Consumer         Budapest    Hungary    EMEA     EMEA  ...   \n",
       "3  Home Office        Stockholm     Sweden      EU    North  ...   \n",
       "4     Consumer  New South Wales  Australia    APAC  Oceania  ...   \n",
       "\n",
       "          category sub_category                 product_name sales quantity  \\\n",
       "0  Office Supplies      Storage          Tenex Lockers, Blue   408        2   \n",
       "1  Office Supplies     Supplies     Acme Trimmer, High Speed   120        3   \n",
       "2  Office Supplies      Storage      Tenex Box, Single Width    66        4   \n",
       "3  Office Supplies        Paper  Enermax Note Cards, Premium    45        3   \n",
       "4        Furniture  Furnishings   Eldon Light Bulb, Duo Pack   114        5   \n",
       "\n",
       "   discount   profit  shipping_cost  order_priority  year  \n",
       "0       0.0  106.140          35.46          Medium  2011  \n",
       "1       0.1   36.036           9.72          Medium  2011  \n",
       "2       0.0   29.640           8.17            High  2011  \n",
       "3       0.5  -26.055           4.82            High  2011  \n",
       "4       0.1   37.770           4.70          Medium  2011  \n",
       "\n",
       "[5 rows x 21 columns]"
      ]
     },
     "execution_count": 5,
     "metadata": {},
     "output_type": "execute_result"
    }
   ],
   "source": [
    "import pandas as pd\n",
    "\n",
    "# Load the dataset\n",
    "df = pd.read_csv(\"../data/raw/SuperStoreOrders.csv\")\n",
    "\n",
    "# Preview data\n",
    "df.head()"
   ]
  },
  {
   "cell_type": "code",
   "execution_count": 6,
   "id": "c09a5361",
   "metadata": {},
   "outputs": [
    {
     "data": {
      "text/plain": [
       "(51290, 21)"
      ]
     },
     "execution_count": 6,
     "metadata": {},
     "output_type": "execute_result"
    }
   ],
   "source": [
    "df.shape"
   ]
  },
  {
   "cell_type": "code",
   "execution_count": 7,
   "id": "eaaa9a10",
   "metadata": {},
   "outputs": [
    {
     "name": "stdout",
     "output_type": "stream",
     "text": [
      "<class 'pandas.core.frame.DataFrame'>\n",
      "RangeIndex: 51290 entries, 0 to 51289\n",
      "Data columns (total 21 columns):\n",
      " #   Column          Non-Null Count  Dtype  \n",
      "---  ------          --------------  -----  \n",
      " 0   order_id        51290 non-null  object \n",
      " 1   order_date      51290 non-null  object \n",
      " 2   ship_date       51290 non-null  object \n",
      " 3   ship_mode       51290 non-null  object \n",
      " 4   customer_name   51290 non-null  object \n",
      " 5   segment         51290 non-null  object \n",
      " 6   state           51290 non-null  object \n",
      " 7   country         51290 non-null  object \n",
      " 8   market          51290 non-null  object \n",
      " 9   region          51290 non-null  object \n",
      " 10  product_id      51290 non-null  object \n",
      " 11  category        51290 non-null  object \n",
      " 12  sub_category    51290 non-null  object \n",
      " 13  product_name    51290 non-null  object \n",
      " 14  sales           51290 non-null  object \n",
      " 15  quantity        51290 non-null  int64  \n",
      " 16  discount        51290 non-null  float64\n",
      " 17  profit          51290 non-null  float64\n",
      " 18  shipping_cost   51290 non-null  float64\n",
      " 19  order_priority  51290 non-null  object \n",
      " 20  year            51290 non-null  int64  \n",
      "dtypes: float64(3), int64(2), object(16)\n",
      "memory usage: 8.2+ MB\n"
     ]
    }
   ],
   "source": [
    "df.info()"
   ]
  },
  {
   "cell_type": "code",
   "execution_count": 8,
   "id": "fcc9f1f4",
   "metadata": {},
   "outputs": [
    {
     "name": "stderr",
     "output_type": "stream",
     "text": [
      "<>:2: SyntaxWarning: invalid escape sequence '\\$'\n",
      "<>:2: SyntaxWarning: invalid escape sequence '\\$'\n",
      "/var/folders/nz/xr9cwnmn4ln__b_sd5vm8xc00000gn/T/ipykernel_98796/3512828618.py:2: SyntaxWarning: invalid escape sequence '\\$'\n",
      "  df['sales'] = df['sales'].replace('[\\$,]', '', regex=True).astype(float)\n"
     ]
    }
   ],
   "source": [
    "# Remove commas/dollar signs and convert to float\n",
    "df['sales'] = df['sales'].replace('[\\$,]', '', regex=True).astype(float)"
   ]
  },
  {
   "cell_type": "code",
   "execution_count": 10,
   "id": "ee33cba7",
   "metadata": {},
   "outputs": [
    {
     "data": {
      "text/plain": [
       "order_id           object\n",
       "order_date         object\n",
       "ship_date          object\n",
       "ship_mode          object\n",
       "customer_name      object\n",
       "segment            object\n",
       "state              object\n",
       "country            object\n",
       "market             object\n",
       "region             object\n",
       "product_id         object\n",
       "category           object\n",
       "sub_category       object\n",
       "product_name       object\n",
       "sales             float64\n",
       "quantity            int64\n",
       "discount          float64\n",
       "profit            float64\n",
       "shipping_cost     float64\n",
       "order_priority     object\n",
       "year                int64\n",
       "dtype: object"
      ]
     },
     "execution_count": 10,
     "metadata": {},
     "output_type": "execute_result"
    }
   ],
   "source": [
    "df.dtypes"
   ]
  },
  {
   "cell_type": "code",
   "execution_count": 11,
   "id": "3f2f4135",
   "metadata": {},
   "outputs": [
    {
     "data": {
      "text/plain": [
       "Index(['order_id', 'order_date', 'ship_date', 'ship_mode', 'customer_name',\n",
       "       'segment', 'state', 'country', 'market', 'region', 'product_id',\n",
       "       'category', 'sub_category', 'product_name', 'sales', 'quantity',\n",
       "       'discount', 'profit', 'shipping_cost', 'order_priority', 'year'],\n",
       "      dtype='object')"
      ]
     },
     "execution_count": 11,
     "metadata": {},
     "output_type": "execute_result"
    }
   ],
   "source": [
    "# Standardise column names\n",
    "df.columns = df.columns.str.strip().str.lower().str.replace(' ', '_')\n",
    "df.columns"
   ]
  },
  {
   "cell_type": "code",
   "execution_count": 12,
   "id": "5350e685",
   "metadata": {},
   "outputs": [
    {
     "data": {
      "text/plain": [
       "array(['1/1/2011', '2/1/2011', '3/1/2011', '4/1/2011', '5/1/2011',\n",
       "       '6/1/2011', '7/1/2011', '8/1/2011', '9/1/2011', '10/1/2011',\n",
       "       '11/1/2011', '12/1/2011', '13-01-2011', '14-01-2011', '15-01-2011',\n",
       "       '16-01-2011', '17-01-2011', '18-01-2011', '19-01-2011',\n",
       "       '20-01-2011'], dtype=object)"
      ]
     },
     "execution_count": 12,
     "metadata": {},
     "output_type": "execute_result"
    }
   ],
   "source": [
    "df['order_date'].unique()[:20]"
   ]
  },
  {
   "cell_type": "code",
   "execution_count": 13,
   "id": "4c7d34b0",
   "metadata": {},
   "outputs": [
    {
     "data": {
      "text/plain": [
       "array(['6/1/2011', '8/1/2011', '5/1/2011', '3/1/2011', '9/1/2011',\n",
       "       '7/1/2011', '11/1/2011', '10/1/2011', '13-01-2011', '12/1/2011',\n",
       "       '14-01-2011', '15-01-2011', '16-01-2011', '18-01-2011',\n",
       "       '17-01-2011', '19-01-2011', '20-01-2011', '21-01-2011',\n",
       "       '22-01-2011', '23-01-2011'], dtype=object)"
      ]
     },
     "execution_count": 13,
     "metadata": {},
     "output_type": "execute_result"
    }
   ],
   "source": [
    "df['ship_date'].unique()[:20]"
   ]
  },
  {
   "cell_type": "code",
   "execution_count": 14,
   "id": "b70ba9d2",
   "metadata": {},
   "outputs": [],
   "source": [
    "# Convert date columns using both date formats\n",
    "# Handle order_date\n",
    "df['order_date'] = pd.to_datetime(df['order_date'], errors='coerce', dayfirst=True)\n",
    "mask_missing = df['order_date'].isnull()\n",
    "df.loc[mask_missing, 'order_date'] = pd.to_datetime(df.loc[mask_missing, 'order_date'], errors='coerce', dayfirst=False)\n",
    "\n",
    "# Handle ship_date\n",
    "df['ship_date'] = pd.to_datetime(df['ship_date'], errors='coerce', dayfirst=True)\n",
    "mask_missing = df['ship_date'].isnull()\n",
    "df.loc[mask_missing, 'ship_date'] = pd.to_datetime(df.loc[mask_missing, 'ship_date'], errors='coerce', dayfirst=False)"
   ]
  },
  {
   "cell_type": "code",
   "execution_count": 15,
   "id": "7f4e85ad",
   "metadata": {},
   "outputs": [],
   "source": [
    "# Drop rows where both dates are still missing\n",
    "df.dropna(subset=['order_date', 'ship_date'], inplace=True)"
   ]
  },
  {
   "cell_type": "code",
   "execution_count": 16,
   "id": "76c6f38e",
   "metadata": {},
   "outputs": [],
   "source": [
    "df['order_month'] = df['order_date'].dt.to_period('M')\n",
    "df['order_quarter'] = df['order_date'].dt.to_period('Q')"
   ]
  },
  {
   "cell_type": "code",
   "execution_count": 17,
   "id": "c51f2c2a",
   "metadata": {},
   "outputs": [],
   "source": [
    "# Calculate shipping duration in days\n",
    "df['ship_duration'] = (df['ship_date'] - df['order_date']).dt.days"
   ]
  },
  {
   "cell_type": "code",
   "execution_count": 18,
   "id": "681068cd",
   "metadata": {},
   "outputs": [
    {
     "name": "stderr",
     "output_type": "stream",
     "text": [
      "/var/folders/nz/xr9cwnmn4ln__b_sd5vm8xc00000gn/T/ipykernel_98796/3858630554.py:6: FutureWarning: \n",
      "\n",
      "The `ci` parameter is deprecated. Use `errorbar=None` for the same effect.\n",
      "\n",
      "  sns.barplot(data=df, x='category', y='sales', estimator='sum', ci=None)\n"
     ]
    },
    {
     "data": {
      "text/plain": [
       "Text(0.5, 1.0, 'Total Sales by Category')"
      ]
     },
     "execution_count": 18,
     "metadata": {},
     "output_type": "execute_result"
    },
    {
     "data": {
      "image/png": "[encoded data removed]",
      "text/plain": [
       "<Figure size 1200x600 with 1 Axes>"
      ]
     },
     "metadata": {},
     "output_type": "display_data"
    }
   ],
   "source": [
    "# Sales / Profit by Category & Sub-Category\n",
    "import seaborn as sns\n",
    "import matplotlib.pyplot as plt\n",
    "\n",
    "plt.figure(figsize=(12, 6))\n",
    "sns.barplot(data=df, x='category', y='sales', estimator='sum', ci=None)\n",
    "plt.title('Total Sales by Category')"
   ]
  },
  {
   "cell_type": "code",
   "execution_count": 19,
   "id": "74b071eb",
   "metadata": {},
   "outputs": [
    {
     "data": {
      "text/plain": [
       "Text(0.5, 1.0, 'Shipping Duration Distribution')"
      ]
     },
     "execution_count": 19,
     "metadata": {},
     "output_type": "execute_result"
    },
    {
     "data": {
      "image/png": "[encoded data removed]",
      "text/plain": [
       "<Figure size 640x480 with 1 Axes>"
      ]
     },
     "metadata": {},
     "output_type": "display_data"
    }
   ],
   "source": [
    "# Shipping Duration Distribution\n",
    "sns.histplot(df['ship_duration'], bins=30, kde=True)\n",
    "plt.title('Shipping Duration Distribution')"
   ]
  },
  {
   "cell_type": "code",
   "execution_count": 20,
   "id": "bf544a67",
   "metadata": {},
   "outputs": [
    {
     "data": {
      "text/plain": [
       "Text(0.5, 1.0, 'Profit vs Sales by Category')"
      ]
     },
     "execution_count": 20,
     "metadata": {},
     "output_type": "execute_result"
    },
    {
     "data": {
      "image/png": "[encoded data removed]",
      "text/plain": [
       "<Figure size 640x480 with 1 Axes>"
      ]
     },
     "metadata": {},
     "output_type": "display_data"
    }
   ],
   "source": [
    "# Profitability: Profit vs Sales\n",
    "sns.scatterplot(data=df, x='sales', y='profit', hue='category')\n",
    "plt.title('Profit vs Sales by Category')"
   ]
  },
  {
   "cell_type": "code",
   "execution_count": 21,
   "id": "b72f776f",
   "metadata": {},
   "outputs": [
    {
     "data": {
      "text/plain": [
       "Text(0.5, 1.0, 'Shipping Duration by Mode')"
      ]
     },
     "execution_count": 21,
     "metadata": {},
     "output_type": "execute_result"
    },
    {
     "data": {
      "image/png": "[encoded data removed]",
      "text/plain": [
       "<Figure size 640x480 with 1 Axes>"
      ]
     },
     "metadata": {},
     "output_type": "display_data"
    }
   ],
   "source": [
    "# Shipping Mode Analysis\n",
    "sns.boxplot(data=df, x='ship_mode', y='ship_duration')\n",
    "plt.title('Shipping Duration by Mode')"
   ]
  }
 ],
 "metadata": {
  "kernelspec": {
   "display_name": ".venv",
   "language": "python",
   "name": "python3"
  },
  "language_info": {
   "codemirror_mode": {
    "name": "ipython",
    "version": 3
   },
   "file_extension": ".py",
   "mimetype": "text/x-python",
   "name": "python",
   "nbconvert_exporter": "python",
   "pygments_lexer": "ipython3",
   "version": "3.13.2"
  }
 },
 "nbformat": 4,
 "nbformat_minor": 5
}
