{
 "cells": [
  {
   "cell_type": "code",
   "execution_count": 3,
   "id": "a10189bc",
   "metadata": {},
   "outputs": [
    {
     "data": {
      "application/vnd.microsoft.datawrangler.viewer.v0+json": {
       "columns": [
        {
         "name": "index",
         "rawType": "int64",
         "type": "integer"
        },
        {
         "name": "order_id",
         "rawType": "object",
         "type": "string"
        },
        {
         "name": "order_date",
         "rawType": "object",
         "type": "string"
        },
        {
         "name": "ship_date",
         "rawType": "object",
         "type": "string"
        },
        {
         "name": "ship_mode",
         "rawType": "object",
         "type": "string"
        },
        {
         "name": "customer_name",
         "rawType": "object",
         "type": "string"
        },
        {
         "name": "segment",
         "rawType": "object",
         "type": "string"
        },
        {
         "name": "state",
         "rawType": "object",
         "type": "string"
        },
        {
         "name": "country",
         "rawType": "object",
         "type": "string"
        },
        {
         "name": "market",
         "rawType": "object",
         "type": "string"
        },
        {
         "name": "region",
         "rawType": "object",
         "type": "string"
        },
        {
         "name": "product_id",
         "rawType": "object",
         "type": "string"
        },
        {
         "name": "category",
         "rawType": "object",
         "type": "string"
        },
        {
         "name": "sub_category",
         "rawType": "object",
         "type": "string"
        },
        {
         "name": "product_name",
         "rawType": "object",
         "type": "string"
        },
        {
         "name": "sales",
         "rawType": "object",
         "type": "string"
        },
        {
         "name": "quantity",
         "rawType": "int64",
         "type": "integer"
        },
        {
         "name": "discount",
         "rawType": "float64",
         "type": "float"
        },
        {
         "name": "profit",
         "rawType": "float64",
         "type": "float"
        },
        {
         "name": "shipping_cost",
         "rawType": "float64",
         "type": "float"
        },
        {
         "name": "order_priority",
         "rawType": "object",
         "type": "string"
        },
        {
         "name": "year",
         "rawType": "int64",
         "type": "integer"
        }
       ],
       "conversionMethod": "pd.DataFrame",
       "ref": "69a799b4-230f-4165-af28-f53e68edb631",
       "rows": [
        [
         "0",
         "AG-2011-2040",
         "1/1/2011",
         "6/1/2011",
         "Standard Class",
         "Toby Braunhardt",
         "Consumer",
         "Constantine",
         "Algeria",
         "Africa",
         "Africa",
         "OFF-TEN-10000025",
         "Office Supplies",
         "Storage",
         "Tenex Lockers, Blue",
         "408",
         "2",
         "0.0",
         "106.14",
         "35.46",
         "Medium",
         "2011"
        ],
        [
         "1",
         "IN-2011-47883",
         "1/1/2011",
         "8/1/2011",
         "Standard Class",
         "Joseph Holt",
         "Consumer",
         "New South Wales",
         "Australia",
         "APAC",
         "Oceania",
         "OFF-SU-10000618",
         "Office Supplies",
         "Supplies",
         "Acme Trimmer, High Speed",
         "120",
         "3",
         "0.1",
         "36.036",
         "9.72",
         "Medium",
         "2011"
        ],
        [
         "2",
         "HU-2011-1220",
         "1/1/2011",
         "5/1/2011",
         "Second Class",
         "Annie Thurman",
         "Consumer",
         "Budapest",
         "Hungary",
         "EMEA",
         "EMEA",
         "OFF-TEN-10001585",
         "Office Supplies",
         "Storage",
         "Tenex Box, Single Width",
         "66",
         "4",
         "0.0",
         "29.64",
         "8.17",
         "High",
         "2011"
        ],
        [
         "3",
         "IT-2011-3647632",
         "1/1/2011",
         "5/1/2011",
         "Second Class",
         "Eugene Moren",
         "Home Office",
         "Stockholm",
         "Sweden",
         "EU",
         "North",
         "OFF-PA-10001492",
         "Office Supplies",
         "Paper",
         "Enermax Note Cards, Premium",
         "45",
         "3",
         "0.5",
         "-26.055",
         "4.82",
         "High",
         "2011"
        ],
        [
         "4",
         "IN-2011-47883",
         "1/1/2011",
         "8/1/2011",
         "Standard Class",
         "Joseph Holt",
         "Consumer",
         "New South Wales",
         "Australia",
         "APAC",
         "Oceania",
         "FUR-FU-10003447",
         "Furniture",
         "Furnishings",
         "Eldon Light Bulb, Duo Pack",
         "114",
         "5",
         "0.1",
         "37.77",
         "4.7",
         "Medium",
         "2011"
        ]
       ],
       "shape": {
        "columns": 21,
        "rows": 5
       }
      },
      "text/html": [
       "<div>\n",
       "<style scoped>\n",
       "    .dataframe tbody tr th:only-of-type {\n",
       "        vertical-align: middle;\n",
       "    }\n",
       "\n",
       "    .dataframe tbody tr th {\n",
       "        vertical-align: top;\n",
       "    }\n",
       "\n",
       "    .dataframe thead th {\n",
       "        text-align: right;\n",
       "    }\n",
       "</style>\n",
       "<table border=\"1\" class=\"dataframe\">\n",
       "  <thead>\n",
       "    <tr style=\"text-align: right;\">\n",
       "      <th></th>\n",
       "      <th>order_id</th>\n",
       "      <th>order_date</th>\n",
       "      <th>ship_date</th>\n",
       "      <th>ship_mode</th>\n",
       "      <th>customer_name</th>\n",
       "      <th>segment</th>\n",
       "      <th>state</th>\n",
       "      <th>country</th>\n",
       "      <th>market</th>\n",
       "      <th>region</th>\n",
       "      <th>...</th>\n",
       "      <th>category</th>\n",
       "      <th>sub_category</th>\n",
       "      <th>product_name</th>\n",
       "      <th>sales</th>\n",
       "      <th>quantity</th>\n",
       "      <th>discount</th>\n",
       "      <th>profit</th>\n",
       "      <th>shipping_cost</th>\n",
       "      <th>order_priority</th>\n",
       "      <th>year</th>\n",
       "    </tr>\n",
       "  </thead>\n",
       "  <tbody>\n",
       "    <tr>\n",
       "      <th>0</th>\n",
       "      <td>AG-2011-2040</td>\n",
       "      <td>1/1/2011</td>\n",
       "      <td>6/1/2011</td>\n",
       "      <td>Standard Class</td>\n",
       "      <td>Toby Braunhardt</td>\n",
       "      <td>Consumer</td>\n",
       "      <td>Constantine</td>\n",
       "      <td>Algeria</td>\n",
       "      <td>Africa</td>\n",
       "      <td>Africa</td>\n",
       "      <td>...</td>\n",
       "      <td>Office Supplies</td>\n",
       "      <td>Storage</td>\n",
       "      <td>Tenex Lockers, Blue</td>\n",
       "      <td>408</td>\n",
       "      <td>2</td>\n",
       "      <td>0.0</td>\n",
       "      <td>106.140</td>\n",
       "      <td>35.46</td>\n",
       "      <td>Medium</td>\n",
       "      <td>2011</td>\n",
       "    </tr>\n",
       "    <tr>\n",
       "      <th>1</th>\n",
       "      <td>IN-2011-47883</td>\n",
       "      <td>1/1/2011</td>\n",
       "      <td>8/1/2011</td>\n",
       "      <td>Standard Class</td>\n",
       "      <td>Joseph Holt</td>\n",
       "      <td>Consumer</td>\n",
       "      <td>New South Wales</td>\n",
       "      <td>Australia</td>\n",
       "      <td>APAC</td>\n",
       "      <td>Oceania</td>\n",
       "      <td>...</td>\n",
       "      <td>Office Supplies</td>\n",
       "      <td>Supplies</td>\n",
       "      <td>Acme Trimmer, High Speed</td>\n",
       "      <td>120</td>\n",
       "      <td>3</td>\n",
       "      <td>0.1</td>\n",
       "      <td>36.036</td>\n",
       "      <td>9.72</td>\n",
       "      <td>Medium</td>\n",
       "      <td>2011</td>\n",
       "    </tr>\n",
       "    <tr>\n",
       "      <th>2</th>\n",
       "      <td>HU-2011-1220</td>\n",
       "      <td>1/1/2011</td>\n",
       "      <td>5/1/2011</td>\n",
       "      <td>Second Class</td>\n",
       "      <td>Annie Thurman</td>\n",
       "      <td>Consumer</td>\n",
       "      <td>Budapest</td>\n",
       "      <td>Hungary</td>\n",
       "      <td>EMEA</td>\n",
       "      <td>EMEA</td>\n",
       "      <td>...</td>\n",
       "      <td>Office Supplies</td>\n",
       "      <td>Storage</td>\n",
       "      <td>Tenex Box, Single Width</td>\n",
       "      <td>66</td>\n",
       "      <td>4</td>\n",
       "      <td>0.0</td>\n",
       "      <td>29.640</td>\n",
       "      <td>8.17</td>\n",
       "      <td>High</td>\n",
       "      <td>2011</td>\n",
       "    </tr>\n",
       "    <tr>\n",
       "      <th>3</th>\n",
       "      <td>IT-2011-3647632</td>\n",
       "      <td>1/1/2011</td>\n",
       "      <td>5/1/2011</td>\n",
       "      <td>Second Class</td>\n",
       "      <td>Eugene Moren</td>\n",
       "      <td>Home Office</td>\n",
       "      <td>Stockholm</td>\n",
       "      <td>Sweden</td>\n",
       "      <td>EU</td>\n",
       "      <td>North</td>\n",
       "      <td>...</td>\n",
       "      <td>Office Supplies</td>\n",
       "      <td>Paper</td>\n",
       "      <td>Enermax Note Cards, Premium</td>\n",
       "      <td>45</td>\n",
       "      <td>3</td>\n",
       "      <td>0.5</td>\n",
       "      <td>-26.055</td>\n",
       "      <td>4.82</td>\n",
       "      <td>High</td>\n",
       "      <td>2011</td>\n",
       "    </tr>\n",
       "    <tr>\n",
       "      <th>4</th>\n",
       "      <td>IN-2011-47883</td>\n",
       "      <td>1/1/2011</td>\n",
       "      <td>8/1/2011</td>\n",
       "      <td>Standard Class</td>\n",
       "      <td>Joseph Holt</td>\n",
       "      <td>Consumer</td>\n",
       "      <td>New South Wales</td>\n",
       "      <td>Australia</td>\n",
       "      <td>APAC</td>\n",
       "      <td>Oceania</td>\n",
       "      <td>...</td>\n",
       "      <td>Furniture</td>\n",
       "      <td>Furnishings</td>\n",
       "      <td>Eldon Light Bulb, Duo Pack</td>\n",
       "      <td>114</td>\n",
       "      <td>5</td>\n",
       "      <td>0.1</td>\n",
       "      <td>37.770</td>\n",
       "      <td>4.70</td>\n",
       "      <td>Medium</td>\n",
       "      <td>2011</td>\n",
       "    </tr>\n",
       "  </tbody>\n",
       "</table>\n",
       "<p>5 rows × 21 columns</p>\n",
       "</div>"
      ],
      "text/plain": [
       "          order_id order_date ship_date       ship_mode    customer_name  \\\n",
       "0     AG-2011-2040   1/1/2011  6/1/2011  Standard Class  Toby Braunhardt   \n",
       "1    IN-2011-47883   1/1/2011  8/1/2011  Standard Class      Joseph Holt   \n",
       "2     HU-2011-1220   1/1/2011  5/1/2011    Second Class    Annie Thurman   \n",
       "3  IT-2011-3647632   1/1/2011  5/1/2011    Second Class     Eugene Moren   \n",
       "4    IN-2011-47883   1/1/2011  8/1/2011  Standard Class      Joseph Holt   \n",
       "\n",
       "       segment            state    country  market   region  ...  \\\n",
       "0     Consumer      Constantine    Algeria  Africa   Africa  ...   \n",
       "1     Consumer  New South Wales  Australia    APAC  Oceania  ...   \n",
       "2     Consumer         Budapest    Hungary    EMEA     EMEA  ...   \n",
       "3  Home Office        Stockholm     Sweden      EU    North  ...   \n",
       "4     Consumer  New South Wales  Australia    APAC  Oceania  ...   \n",
       "\n",
       "          category sub_category                 product_name sales quantity  \\\n",
       "0  Office Supplies      Storage          Tenex Lockers, Blue   408        2   \n",
       "1  Office Supplies     Supplies     Acme Trimmer, High Speed   120        3   \n",
       "2  Office Supplies      Storage      Tenex Box, Single Width    66        4   \n",
       "3  Office Supplies        Paper  Enermax Note Cards, Premium    45        3   \n",
       "4        Furniture  Furnishings   Eldon Light Bulb, Duo Pack   114        5   \n",
       "\n",
       "   discount   profit  shipping_cost  order_priority  year  \n",
       "0       0.0  106.140          35.46          Medium  2011  \n",
       "1       0.1   36.036           9.72          Medium  2011  \n",
       "2       0.0   29.640           8.17            High  2011  \n",
       "3       0.5  -26.055           4.82            High  2011  \n",
       "4       0.1   37.770           4.70          Medium  2011  \n",
       "\n",
       "[5 rows x 21 columns]"
      ]
     },
     "execution_count": 3,
     "metadata": {},
     "output_type": "execute_result"
    }
   ],
   "source": [
    "import pandas as pd\n",
    "\n",
    "# Load the dataset\n",
    "df = pd.read_csv(\"../data/raw/SuperStoreOrders.csv\")\n",
    "\n",
    "# Preview data\n",
    "df.head()"
   ]
  },
  {
   "cell_type": "code",
   "execution_count": null,
   "id": "ab95b47b",
   "metadata": {},
   "outputs": [
    {
     "data": {
      "text/plain": [
       "Index(['order_id', 'order_date', 'ship_date', 'ship_mode', 'customer_name',\n",
       "       'segment', 'state', 'country', 'market', 'region', 'product_id',\n",
       "       'category', 'sub_category', 'product_name', 'sales', 'quantity',\n",
       "       'discount', 'profit', 'shipping_cost', 'order_priority', 'year'],\n",
       "      dtype='object')"
      ]
     },
     "execution_count": 4,
     "metadata": {},
     "output_type": "execute_result"
    }
   ],
   "source": [
    "# Standardise column names\n",
    "df.columns = df.columns.str.strip().str.lower().str.replace(' ', '_')\n",
    "df.columns"
   ]
  },
  {
   "cell_type": "code",
   "execution_count": 5,
   "id": "e7624309",
   "metadata": {},
   "outputs": [],
   "source": [
    "df['order_date'] = pd.to_datetime(df['order_date'], errors='coerce', dayfirst=True)\n",
    "df['ship_date'] = pd.to_datetime(df['ship_date'], errors='coerce', dayfirst=True)"
   ]
  },
  {
   "cell_type": "code",
   "execution_count": 6,
   "id": "2cd1e869",
   "metadata": {},
   "outputs": [
    {
     "data": {
      "application/vnd.microsoft.datawrangler.viewer.v0+json": {
       "columns": [
        {
         "name": "index",
         "rawType": "int64",
         "type": "integer"
        },
        {
         "name": "order_date",
         "rawType": "datetime64[ns]",
         "type": "datetime"
        },
        {
         "name": "ship_date",
         "rawType": "datetime64[ns]",
         "type": "datetime"
        },
        {
         "name": "ship_duration",
         "rawType": "float64",
         "type": "float"
        }
       ],
       "conversionMethod": "pd.DataFrame",
       "ref": "95869ff2-e518-480e-b304-61b16f1bf7d4",
       "rows": [
        [
         "0",
         "2011-01-01 00:00:00",
         "2011-01-06 00:00:00",
         "5.0"
        ],
        [
         "1",
         "2011-01-01 00:00:00",
         "2011-01-08 00:00:00",
         "7.0"
        ],
        [
         "2",
         "2011-01-01 00:00:00",
         "2011-01-05 00:00:00",
         "4.0"
        ],
        [
         "3",
         "2011-01-01 00:00:00",
         "2011-01-05 00:00:00",
         "4.0"
        ],
        [
         "4",
         "2011-01-01 00:00:00",
         "2011-01-08 00:00:00",
         "7.0"
        ]
       ],
       "shape": {
        "columns": 3,
        "rows": 5
       }
      },
      "text/html": [
       "<div>\n",
       "<style scoped>\n",
       "    .dataframe tbody tr th:only-of-type {\n",
       "        vertical-align: middle;\n",
       "    }\n",
       "\n",
       "    .dataframe tbody tr th {\n",
       "        vertical-align: top;\n",
       "    }\n",
       "\n",
       "    .dataframe thead th {\n",
       "        text-align: right;\n",
       "    }\n",
       "</style>\n",
       "<table border=\"1\" class=\"dataframe\">\n",
       "  <thead>\n",
       "    <tr style=\"text-align: right;\">\n",
       "      <th></th>\n",
       "      <th>order_date</th>\n",
       "      <th>ship_date</th>\n",
       "      <th>ship_duration</th>\n",
       "    </tr>\n",
       "  </thead>\n",
       "  <tbody>\n",
       "    <tr>\n",
       "      <th>0</th>\n",
       "      <td>2011-01-01</td>\n",
       "      <td>2011-01-06</td>\n",
       "      <td>5.0</td>\n",
       "    </tr>\n",
       "    <tr>\n",
       "      <th>1</th>\n",
       "      <td>2011-01-01</td>\n",
       "      <td>2011-01-08</td>\n",
       "      <td>7.0</td>\n",
       "    </tr>\n",
       "    <tr>\n",
       "      <th>2</th>\n",
       "      <td>2011-01-01</td>\n",
       "      <td>2011-01-05</td>\n",
       "      <td>4.0</td>\n",
       "    </tr>\n",
       "    <tr>\n",
       "      <th>3</th>\n",
       "      <td>2011-01-01</td>\n",
       "      <td>2011-01-05</td>\n",
       "      <td>4.0</td>\n",
       "    </tr>\n",
       "    <tr>\n",
       "      <th>4</th>\n",
       "      <td>2011-01-01</td>\n",
       "      <td>2011-01-08</td>\n",
       "      <td>7.0</td>\n",
       "    </tr>\n",
       "  </tbody>\n",
       "</table>\n",
       "</div>"
      ],
      "text/plain": [
       "  order_date  ship_date  ship_duration\n",
       "0 2011-01-01 2011-01-06            5.0\n",
       "1 2011-01-01 2011-01-08            7.0\n",
       "2 2011-01-01 2011-01-05            4.0\n",
       "3 2011-01-01 2011-01-05            4.0\n",
       "4 2011-01-01 2011-01-08            7.0"
      ]
     },
     "execution_count": 6,
     "metadata": {},
     "output_type": "execute_result"
    }
   ],
   "source": [
    "df['ship_duration'] = (df['ship_date'] - df['order_date']).dt.days\n",
    "df[['order_date', 'ship_date', 'ship_duration']].head()"
   ]
  },
  {
   "cell_type": "code",
   "execution_count": null,
   "id": "51f48c4a",
   "metadata": {},
   "outputs": [],
   "source": [
    "print(\"Missing values:\\n\", df.isnull().sum())\n",
    "print(\"\\nDuplicate rows:\", df.duplicated().sum())\n"
   ]
  }
 ],
 "metadata": {
  "kernelspec": {
   "display_name": ".venv",
   "language": "python",
   "name": "python3"
  },
  "language_info": {
   "codemirror_mode": {
    "name": "ipython",
    "version": 3
   },
   "file_extension": ".py",
   "mimetype": "text/x-python",
   "name": "python",
   "nbconvert_exporter": "python",
   "pygments_lexer": "ipython3",
   "version": "3.13.2"
  }
 },
 "nbformat": 4,
 "nbformat_minor": 5
}
